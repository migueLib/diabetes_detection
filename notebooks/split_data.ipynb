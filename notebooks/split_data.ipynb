{
 "cells": [
  {
   "cell_type": "code",
   "execution_count": 1,
   "metadata": {},
   "outputs": [],
   "source": [
    "import os\n",
    "from os.path import abspath\n",
    "import pickle\n",
    "import pandas as pd\n",
    "from tqdm import tqdm\n",
    "from sklearn.model_selection import train_test_split"
   ]
  },
  {
   "cell_type": "code",
   "execution_count": 2,
   "metadata": {},
   "outputs": [
    {
     "name": "stdout",
     "output_type": "stream",
     "text": [
      "/home/ubuntu/diabetes_detection\n"
     ]
    }
   ],
   "source": [
    "# ROOT contais the project directory \n",
    "os.chdir(os.path.dirname(os.getcwd()))\n",
    "print(os.getcwd())"
   ]
  },
  {
   "cell_type": "markdown",
   "metadata": {},
   "source": [
    "# Split data between Diabetic and Non-diabetic"
   ]
  },
  {
   "cell_type": "code",
   "execution_count": 3,
   "metadata": {},
   "outputs": [],
   "source": [
    "# Create a list with all the fundus images\n",
    "fun_all = os.listdir(\"/mnt/ukbb/raw/\")"
   ]
  },
  {
   "cell_type": "code",
   "execution_count": 4,
   "metadata": {},
   "outputs": [],
   "source": [
    "# Create a set with all the ids of patients with type 2 diabetes (t2d)\n",
    "with open(abspath(\"data/E11-id.txt\"), \"r\") as FILE:\n",
    "    ids_t2d = set([line.strip() for line in FILE])"
   ]
  },
  {
   "cell_type": "code",
   "execution_count": 5,
   "metadata": {},
   "outputs": [],
   "source": [
    "# Get fundus images with t2d\n",
    "fun_t2d = [f for f in fun_all if f[:-4].split(\"_\")[0] in ids_t2d]"
   ]
  },
  {
   "cell_type": "code",
   "execution_count": 6,
   "metadata": {},
   "outputs": [],
   "source": [
    "# Get ids of the t2d patients with fundus images\n",
    "ids_t2d_wfun = set([f[:-4].split(\"_\")[0] for f in fun_t2d])"
   ]
  },
  {
   "cell_type": "code",
   "execution_count": 7,
   "metadata": {},
   "outputs": [
    {
     "name": "stdout",
     "output_type": "stream",
     "text": [
      "all images:      174986  100.00 %\n",
      "t2d patients:     24143  100.00 %\n",
      "t2d images:        7411    4.24 %\n",
      "t2d patients w/im: 3655   15.14 %\n"
     ]
    }
   ],
   "source": [
    "print(f\"all images:      {len(fun_all)}  {100*len(fun_all)/len(fun_all):.2f} %\")\n",
    "print(f\"t2d patients:     {len(ids_t2d)}  {100*len(ids_t2d)/len(ids_t2d):.2f} %\")\n",
    "print(f\"t2d images:        {len(fun_t2d)}    {100*len(fun_t2d)/len(fun_all):.2f} %\")\n",
    "print(f\"t2d patients w/im: {len(ids_t2d_wfun)}   {100*len(ids_t2d_wfun)/len(ids_t2d):.2f} %\")"
   ]
  },
  {
   "cell_type": "code",
   "execution_count": 8,
   "metadata": {},
   "outputs": [
    {
     "name": "stdout",
     "output_type": "stream",
     "text": [
      "174986\n",
      "7411\n",
      "167575\n"
     ]
    }
   ],
   "source": [
    "fun_nt2d = set(fun_all) -set(fun_t2d)\n",
    "fun_nt2d = list(fun_nt2d)\n",
    "\n",
    "print(len(set(fun_all)))\n",
    "print(len(set(fun_t2d)))\n",
    "print(len(set(fun_nt2d)))"
   ]
  },
  {
   "cell_type": "markdown",
   "metadata": {},
   "source": [
    "# Split data between Train/Test"
   ]
  },
  {
   "cell_type": "code",
   "execution_count": 9,
   "metadata": {},
   "outputs": [
    {
     "name": "stdout",
     "output_type": "stream",
     "text": [
      "td2 train: 5928\n",
      "td2 test:  1483\n"
     ]
    }
   ],
   "source": [
    "# Splitting of t2d fundus images to a 80:20\n",
    "fun_t2d_train, fun_t2d_test = train_test_split(fun_t2d, train_size=0.8, random_state=42)\n",
    "print(f\"td2 train: {len(fun_t2d_train)}\")\n",
    "print(f\"td2 test:  {len(fun_t2d_test)}\")"
   ]
  },
  {
   "cell_type": "code",
   "execution_count": 10,
   "metadata": {},
   "outputs": [
    {
     "name": "stdout",
     "output_type": "stream",
     "text": [
      "ntd2 train: 23712\n",
      "ntd2 test:   1483\n"
     ]
    }
   ],
   "source": [
    "# Spliting of non-t2d fundus images on a ration 5:1  non-t2d:t2d\n",
    "fun_nt2d_train, fun_nt2d_test = train_test_split(fun_nt2d, train_size=len(fun_t2d_train)*4, test_size=len(fun_t2d_test), random_state=42)\n",
    "print(f\"ntd2 train: {len(fun_nt2d_train)}\")\n",
    "print(f\"ntd2 test:   {len(fun_nt2d_test)}\")"
   ]
  },
  {
   "cell_type": "code",
   "execution_count": 11,
   "metadata": {},
   "outputs": [
    {
     "name": "stdout",
     "output_type": "stream",
     "text": [
      "ntd2 train: 741\n",
      "ntd2 test:   741\n"
     ]
    }
   ],
   "source": [
    "# Further split the test set into validation/test\n",
    "fun_t2d_validation, fun_t2d_test = train_test_split(fun_t2d_test, test_size=0.5, random_state=42)\n",
    "fun_nt2d_validation, fun_nt2d_test = train_test_split(fun_nt2d_test, test_size=0.5, random_state=42)\n",
    "print(f\"ntd2 train: {len(fun_t2d_validation)}\")\n",
    "print(f\"ntd2 test:   {len(fun_nt2d_validation)}\")"
   ]
  },
  {
   "cell_type": "markdown",
   "metadata": {},
   "source": [
    "# Save Data"
   ]
  },
  {
   "cell_type": "code",
   "execution_count": 12,
   "metadata": {},
   "outputs": [],
   "source": [
    "# Save to pickle lists of id's for train, finetune and test\n",
    "# T2D\n",
    "with open(\"data/pickles/train-t2d.pkl\", \"wb\") as f:\n",
    "    pickle.dump(fun_t2d_train, f)\n",
    "\n",
    "with open(\"data/pickles/validation-t2d.pkl\", \"wb\") as f:\n",
    "    pickle.dump(fun_t2d_validation, f)\n",
    "\n",
    "with open(\"data/pickles/test-t2d.pkl\", \"wb\") as f:\n",
    "    pickle.dump(fun_t2d_test, f)\n",
    "\n",
    "# Non T2D\n",
    "with open(\"data/pickles/train-nont2d.pkl\", \"wb\") as f:\n",
    "    pickle.dump(fun_nt2d_train, f)\n",
    "\n",
    "with open(\"data/pickles/validation-nont2d.pkl\", \"wb\") as f:\n",
    "    pickle.dump(fun_nt2d_validation, f)\n",
    "\n",
    "with open(\"data/pickles/test-nont2d.pkl\", \"wb\") as f:\n",
    "    pickle.dump(fun_nt2d_test, f)"
   ]
  },
  {
   "cell_type": "code",
   "execution_count": 13,
   "metadata": {},
   "outputs": [],
   "source": [
    "# Save also the list of all t2d and non t2d\n",
    "with open(\"data/pickles/all-t2d.pkl\", \"wb\") as f:\n",
    "    pickle.dump(fun_t2d, f)\n",
    "\n",
    "with open(\"data/pickles/all-nont2d.pkl\", \"wb\") as f:\n",
    "    pickle.dump(fun_nt2d, f)"
   ]
  }
 ],
 "metadata": {
  "kernelspec": {
   "display_name": "Python 3",
   "language": "python",
   "name": "python3"
  },
  "language_info": {
   "codemirror_mode": {
    "name": "ipython",
    "version": 3
   },
   "file_extension": ".py",
   "mimetype": "text/x-python",
   "name": "python",
   "nbconvert_exporter": "python",
   "pygments_lexer": "ipython3",
   "version": "3.7.9"
  }
 },
 "nbformat": 4,
 "nbformat_minor": 4
}
