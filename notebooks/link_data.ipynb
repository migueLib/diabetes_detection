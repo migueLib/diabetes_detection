{
 "cells": [
  {
   "cell_type": "markdown",
   "metadata": {},
   "source": [
    "# Create links from the RAW files location to the /data directory"
   ]
  },
  {
   "cell_type": "code",
   "execution_count": 1,
   "metadata": {},
   "outputs": [],
   "source": [
    "import os\n",
    "from os.path import abspath\n",
    "import pickle\n",
    "import shutil\n",
    "from pathlib import Path"
   ]
  },
  {
   "cell_type": "code",
   "execution_count": 2,
   "metadata": {},
   "outputs": [
    {
     "name": "stdout",
     "output_type": "stream",
     "text": [
      "/home/ubuntu/diabetes_detection\n"
     ]
    }
   ],
   "source": [
    "# ROOT contais the project directory \n",
    "os.chdir(os.path.dirname(os.getcwd()))\n",
    "print(os.getcwd())"
   ]
  },
  {
   "cell_type": "code",
   "execution_count": 3,
   "metadata": {},
   "outputs": [],
   "source": [
    "from src.link_files import link_files"
   ]
  },
  {
   "cell_type": "code",
   "execution_count": 4,
   "metadata": {},
   "outputs": [],
   "source": [
    "# Load list of fundus images  for train, finetune and test\n",
    "# T2D\n",
    "with open(\"data/pickles/train-t2d.pkl\", \"rb\") as f:\n",
    "    t2d_train = pickle.load(f)\n",
    "\n",
    "with open(\"data/pickles/validation-t2d.pkl\", \"rb\") as f:\n",
    "    t2d_validation = pickle.load(f)\n",
    "\n",
    "with open(\"data/pickles/test-t2d.pkl\", \"rb\") as f:\n",
    "    t2d_test = pickle.load(f)\n",
    "\n",
    "# Non T2D\n",
    "with open(\"data/pickles/train-nont2d.pkl\", \"rb\") as f:\n",
    "    nont2d_train = pickle.load(f)\n",
    "\n",
    "with open(\"data/pickles/validation-nont2d.pkl\", \"rb\") as f:\n",
    "    nont2d_validation = pickle.load(f)\n",
    "\n",
    "with open(\"data/pickles/test-nont2d.pkl\", \"rb\") as f:\n",
    "    nont2d_test = pickle.load(f)"
   ]
  },
  {
   "cell_type": "code",
   "execution_count": 5,
   "metadata": {},
   "outputs": [],
   "source": [
    "# Lets create links from \n",
    "source = abspath(\"/mnt/ukbb/raw/\")\n",
    "\n",
    "# to\n",
    "dest = abspath(\"data/raw/\")"
   ]
  },
  {
   "cell_type": "code",
   "execution_count": 6,
   "metadata": {},
   "outputs": [
    {
     "name": "stderr",
     "output_type": "stream",
     "text": [
      "100%|██████████| 5928/5928 [00:00<00:00, 61389.61it/s]\n",
      "100%|██████████| 23712/23712 [00:00<00:00, 62958.73it/s]\n",
      "100%|██████████| 741/741 [00:00<00:00, 63476.08it/s]\n",
      "100%|██████████| 741/741 [00:00<00:00, 63326.05it/s]\n",
      "100%|██████████| 742/742 [00:00<00:00, 63381.81it/s]\n",
      "100%|██████████| 742/742 [00:00<00:00, 63201.61it/s]\n"
     ]
    }
   ],
   "source": [
    "link_files(source, dest+\"/train/t2d\", t2d_train)\n",
    "link_files(source, dest+\"/train/nont2d\", nont2d_train)\n",
    "link_files(source, dest+\"/validation/t2d\", t2d_validation)\n",
    "link_files(source, dest+\"/validation/nont2d\", nont2d_validation)\n",
    "link_files(source, dest+\"/test/t2d\", t2d_test)\n",
    "link_files(source, dest+\"/test/nont2d\", nont2d_test)"
   ]
  },
  {
   "cell_type": "code",
   "execution_count": null,
   "metadata": {},
   "outputs": [],
   "source": []
  }
 ],
 "metadata": {
  "kernelspec": {
   "display_name": "Python 3",
   "language": "python",
   "name": "python3"
  },
  "language_info": {
   "codemirror_mode": {
    "name": "ipython",
    "version": 3
   },
   "file_extension": ".py",
   "mimetype": "text/x-python",
   "name": "python",
   "nbconvert_exporter": "python",
   "pygments_lexer": "ipython3",
   "version": "3.7.9"
  }
 },
 "nbformat": 4,
 "nbformat_minor": 4
}
