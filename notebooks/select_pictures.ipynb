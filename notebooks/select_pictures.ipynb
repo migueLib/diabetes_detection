{
 "cells": [
  {
   "cell_type": "code",
   "execution_count": 2,
   "metadata": {},
   "outputs": [],
   "source": [
    "import os\n",
    "import pandas as pd\n",
    "from pathlib import Path\n",
    "import pickle\n",
    "import seaborn as sns\n",
    "import matplotlib\n",
    "import matplotlib.pyplot as plt\n",
    "from sklearn.model_selection import train_test_split"
   ]
  },
  {
   "cell_type": "code",
   "execution_count": 3,
   "metadata": {},
   "outputs": [
    {
     "data": {
      "text/plain": [
       "'/home/ubuntu/diabetes_detection'"
      ]
     },
     "execution_count": 3,
     "metadata": {},
     "output_type": "execute_result"
    }
   ],
   "source": [
    "# Set working directory\n",
    "os.chdir(os.path.dirname(os.getcwd()))\n",
    "os.getcwd()"
   ]
  },
  {
   "cell_type": "code",
   "execution_count": 4,
   "metadata": {},
   "outputs": [],
   "source": [
    "# Import local libraries\n",
    "from src.logger import set_logger as sl\n",
    "from src.link_files import link_files"
   ]
  },
  {
   "cell_type": "code",
   "execution_count": 8,
   "metadata": {},
   "outputs": [
    {
     "data": {
      "text/html": [
       "<div>\n",
       "<style scoped>\n",
       "    .dataframe tbody tr th:only-of-type {\n",
       "        vertical-align: middle;\n",
       "    }\n",
       "\n",
       "    .dataframe tbody tr th {\n",
       "        vertical-align: top;\n",
       "    }\n",
       "\n",
       "    .dataframe thead th {\n",
       "        text-align: right;\n",
       "    }\n",
       "</style>\n",
       "<table border=\"1\" class=\"dataframe\">\n",
       "  <thead>\n",
       "    <tr style=\"text-align: right;\">\n",
       "      <th></th>\n",
       "      <th>FID</th>\n",
       "      <th>IID</th>\n",
       "      <th>Pt_1</th>\n",
       "    </tr>\n",
       "  </thead>\n",
       "  <tbody>\n",
       "    <tr>\n",
       "      <th>0</th>\n",
       "      <td>2869246</td>\n",
       "      <td>2869246</td>\n",
       "      <td>0.030623</td>\n",
       "    </tr>\n",
       "    <tr>\n",
       "      <th>1</th>\n",
       "      <td>4217449</td>\n",
       "      <td>4217449</td>\n",
       "      <td>0.033024</td>\n",
       "    </tr>\n",
       "    <tr>\n",
       "      <th>2</th>\n",
       "      <td>2141632</td>\n",
       "      <td>2141632</td>\n",
       "      <td>0.034242</td>\n",
       "    </tr>\n",
       "    <tr>\n",
       "      <th>3</th>\n",
       "      <td>2056745</td>\n",
       "      <td>2056745</td>\n",
       "      <td>0.032120</td>\n",
       "    </tr>\n",
       "    <tr>\n",
       "      <th>4</th>\n",
       "      <td>1101678</td>\n",
       "      <td>1101678</td>\n",
       "      <td>0.031941</td>\n",
       "    </tr>\n",
       "  </tbody>\n",
       "</table>\n",
       "</div>"
      ],
      "text/plain": [
       "       FID      IID      Pt_1\n",
       "0  2869246  2869246  0.030623\n",
       "1  4217449  4217449  0.033024\n",
       "2  2141632  2141632  0.034242\n",
       "3  2056745  2056745  0.032120\n",
       "4  1101678  1101678  0.031941"
      ]
     },
     "execution_count": 8,
     "metadata": {},
     "output_type": "execute_result"
    }
   ],
   "source": [
    "# Load t2d prs table for top 1% and for all participants\n",
    "prs_top1 = pd.read_table(\"data/T2D_PMID_30297969.all_score_top_one\", sep=\"\\s+\")\n",
    "prs_all = pd.read_table(\"data/T2D_PMID_30297969.all_score\", sep=\"\\s+\")"
   ]
  },
  {
   "cell_type": "code",
   "execution_count": 9,
   "metadata": {},
   "outputs": [
    {
     "data": {
      "text/html": [
       "<div>\n",
       "<style scoped>\n",
       "    .dataframe tbody tr th:only-of-type {\n",
       "        vertical-align: middle;\n",
       "    }\n",
       "\n",
       "    .dataframe tbody tr th {\n",
       "        vertical-align: top;\n",
       "    }\n",
       "\n",
       "    .dataframe thead th {\n",
       "        text-align: right;\n",
       "    }\n",
       "</style>\n",
       "<table border=\"1\" class=\"dataframe\">\n",
       "  <thead>\n",
       "    <tr style=\"text-align: right;\">\n",
       "      <th></th>\n",
       "      <th>FID</th>\n",
       "      <th>IID</th>\n",
       "      <th>Pt_1</th>\n",
       "      <th>T2D</th>\n",
       "    </tr>\n",
       "  </thead>\n",
       "  <tbody>\n",
       "    <tr>\n",
       "      <th>0</th>\n",
       "      <td>5150517</td>\n",
       "      <td>5150517</td>\n",
       "      <td>7.404651</td>\n",
       "      <td>0</td>\n",
       "    </tr>\n",
       "    <tr>\n",
       "      <th>1</th>\n",
       "      <td>5884606</td>\n",
       "      <td>5884606</td>\n",
       "      <td>6.066198</td>\n",
       "      <td>0</td>\n",
       "    </tr>\n",
       "    <tr>\n",
       "      <th>2</th>\n",
       "      <td>1033089</td>\n",
       "      <td>1033089</td>\n",
       "      <td>5.800283</td>\n",
       "      <td>0</td>\n",
       "    </tr>\n",
       "    <tr>\n",
       "      <th>3</th>\n",
       "      <td>2865096</td>\n",
       "      <td>2865096</td>\n",
       "      <td>5.707216</td>\n",
       "      <td>0</td>\n",
       "    </tr>\n",
       "    <tr>\n",
       "      <th>4</th>\n",
       "      <td>1496831</td>\n",
       "      <td>1496831</td>\n",
       "      <td>5.703456</td>\n",
       "      <td>1</td>\n",
       "    </tr>\n",
       "    <tr>\n",
       "      <th>...</th>\n",
       "      <td>...</td>\n",
       "      <td>...</td>\n",
       "      <td>...</td>\n",
       "      <td>...</td>\n",
       "    </tr>\n",
       "    <tr>\n",
       "      <th>4869</th>\n",
       "      <td>5020936</td>\n",
       "      <td>5020936</td>\n",
       "      <td>2.390291</td>\n",
       "      <td>0</td>\n",
       "    </tr>\n",
       "    <tr>\n",
       "      <th>4870</th>\n",
       "      <td>2680115</td>\n",
       "      <td>2680115</td>\n",
       "      <td>2.390255</td>\n",
       "      <td>0</td>\n",
       "    </tr>\n",
       "    <tr>\n",
       "      <th>4871</th>\n",
       "      <td>3402320</td>\n",
       "      <td>3402320</td>\n",
       "      <td>2.390149</td>\n",
       "      <td>1</td>\n",
       "    </tr>\n",
       "    <tr>\n",
       "      <th>4872</th>\n",
       "      <td>3425981</td>\n",
       "      <td>3425981</td>\n",
       "      <td>2.390128</td>\n",
       "      <td>0</td>\n",
       "    </tr>\n",
       "    <tr>\n",
       "      <th>4873</th>\n",
       "      <td>2370618</td>\n",
       "      <td>2370618</td>\n",
       "      <td>2.389956</td>\n",
       "      <td>0</td>\n",
       "    </tr>\n",
       "  </tbody>\n",
       "</table>\n",
       "<p>4874 rows × 4 columns</p>\n",
       "</div>"
      ],
      "text/plain": [
       "          FID      IID      Pt_1  T2D\n",
       "0     5150517  5150517  7.404651    0\n",
       "1     5884606  5884606  6.066198    0\n",
       "2     1033089  1033089  5.800283    0\n",
       "3     2865096  2865096  5.707216    0\n",
       "4     1496831  1496831  5.703456    1\n",
       "...       ...      ...       ...  ...\n",
       "4869  5020936  5020936  2.390291    0\n",
       "4870  2680115  2680115  2.390255    0\n",
       "4871  3402320  3402320  2.390149    1\n",
       "4872  3425981  3425981  2.390128    0\n",
       "4873  2370618  2370618  2.389956    0\n",
       "\n",
       "[4874 rows x 4 columns]"
      ]
     },
     "execution_count": 9,
     "metadata": {},
     "output_type": "execute_result"
    }
   ],
   "source": [
    "prs_top1"
   ]
  },
  {
   "cell_type": "code",
   "execution_count": 5,
   "metadata": {},
   "outputs": [
    {
     "name": "stdout",
     "output_type": "stream",
     "text": [
      "Fundus images for patients with T2D: 7411\n"
     ]
    }
   ],
   "source": [
    "# Load true t2d fundus images\n",
    "with open(\"data/pickles/all-t2d.pkl\", \"rb\") as f:\n",
    "    all_t2d = pickle.load(f)\n",
    "\n",
    "fun_t2d = pd.DataFrame([i.split(\"_\") for i in all_t2d], columns=[\"id\",\"eye\",\"take\",\"replica\"])\n",
    "fun_t2d.id = fun_t2d.id.astype(str)\n",
    "\n",
    "print(f\"Fundus images for patients with T2D: {len(fun_t2d)}\")"
   ]
  },
  {
   "cell_type": "code",
   "execution_count": 6,
   "metadata": {},
   "outputs": [
    {
     "name": "stdout",
     "output_type": "stream",
     "text": [
      "Patient with PRS on the 1st percentile and confirmed T2D: 682\n"
     ]
    }
   ],
   "source": [
    "# Patients on the top 1% with diagnosed T2D\n",
    "prs_top1_t2d_id = prs_top1[prs_top1.T2D == 1].IID.astype(str).values\n",
    "print(f\"Patient with PRS on the 1st percentile and confirmed T2D: {len(prs_top1_t2d_id)}\")"
   ]
  },
  {
   "cell_type": "code",
   "execution_count": 7,
   "metadata": {},
   "outputs": [],
   "source": [
    "# Get fundus for the top1%\n",
    "prs_t2d = prs_top1[prs_top1.T2D == 1]\n",
    "prs_t2d_iid = prs_t2d.IID.reset_index()"
   ]
  },
  {
   "cell_type": "code",
   "execution_count": 8,
   "metadata": {},
   "outputs": [
    {
     "name": "stdout",
     "output_type": "stream",
     "text": [
      "212\n",
      "7199\n"
     ]
    }
   ],
   "source": [
    "# List of fundus images with PRS >= 1%\n",
    "fun_highrisk_t2d = fun_t2d[fun_t2d.id.isin(prs_t2d_iid.IID.astype(str).values)]\n",
    "fun_lowrisk_t2d = fun_t2d[~(fun_t2d.id.isin(prs_t2d_iid.IID.astype(str).values))]\n",
    "print(len(fun_highrisk_t2d))\n",
    "print(len(fun_lowrisk_t2d))"
   ]
  },
  {
   "cell_type": "code",
   "execution_count": 9,
   "metadata": {},
   "outputs": [
    {
     "name": "stdout",
     "output_type": "stream",
     "text": [
      "450\n"
     ]
    }
   ],
   "source": [
    "# Select randomly from the 7199 fundus with moderate/low risk \n",
    "selected, _ = train_test_split(fun_lowrisk_t2d, train_size=450, random_state=42)\n",
    "print(len(selected))"
   ]
  },
  {
   "cell_type": "code",
   "execution_count": 10,
   "metadata": {},
   "outputs": [
    {
     "data": {
      "text/html": [
       "<div>\n",
       "<style scoped>\n",
       "    .dataframe tbody tr th:only-of-type {\n",
       "        vertical-align: middle;\n",
       "    }\n",
       "\n",
       "    .dataframe tbody tr th {\n",
       "        vertical-align: top;\n",
       "    }\n",
       "\n",
       "    .dataframe thead th {\n",
       "        text-align: right;\n",
       "    }\n",
       "</style>\n",
       "<table border=\"1\" class=\"dataframe\">\n",
       "  <thead>\n",
       "    <tr style=\"text-align: right;\">\n",
       "      <th></th>\n",
       "      <th>id</th>\n",
       "      <th>eye</th>\n",
       "      <th>take</th>\n",
       "      <th>replica</th>\n",
       "    </tr>\n",
       "  </thead>\n",
       "  <tbody>\n",
       "    <tr>\n",
       "      <th>11</th>\n",
       "      <td>3749963</td>\n",
       "      <td>21016</td>\n",
       "      <td>0</td>\n",
       "      <td>0.png</td>\n",
       "    </tr>\n",
       "    <tr>\n",
       "      <th>13</th>\n",
       "      <td>5023033</td>\n",
       "      <td>21015</td>\n",
       "      <td>0</td>\n",
       "      <td>0.png</td>\n",
       "    </tr>\n",
       "    <tr>\n",
       "      <th>16</th>\n",
       "      <td>4446007</td>\n",
       "      <td>21015</td>\n",
       "      <td>0</td>\n",
       "      <td>0.png</td>\n",
       "    </tr>\n",
       "    <tr>\n",
       "      <th>37</th>\n",
       "      <td>1810308</td>\n",
       "      <td>21016</td>\n",
       "      <td>0</td>\n",
       "      <td>0.png</td>\n",
       "    </tr>\n",
       "    <tr>\n",
       "      <th>55</th>\n",
       "      <td>2814310</td>\n",
       "      <td>21015</td>\n",
       "      <td>0</td>\n",
       "      <td>0.png</td>\n",
       "    </tr>\n",
       "    <tr>\n",
       "      <th>...</th>\n",
       "      <td>...</td>\n",
       "      <td>...</td>\n",
       "      <td>...</td>\n",
       "      <td>...</td>\n",
       "    </tr>\n",
       "    <tr>\n",
       "      <th>3877</th>\n",
       "      <td>5483296</td>\n",
       "      <td>21015</td>\n",
       "      <td>0</td>\n",
       "      <td>0.png</td>\n",
       "    </tr>\n",
       "    <tr>\n",
       "      <th>5346</th>\n",
       "      <td>1197618</td>\n",
       "      <td>21016</td>\n",
       "      <td>0</td>\n",
       "      <td>0.png</td>\n",
       "    </tr>\n",
       "    <tr>\n",
       "      <th>5382</th>\n",
       "      <td>1340232</td>\n",
       "      <td>21015</td>\n",
       "      <td>0</td>\n",
       "      <td>0.png</td>\n",
       "    </tr>\n",
       "    <tr>\n",
       "      <th>5551</th>\n",
       "      <td>1648394</td>\n",
       "      <td>21016</td>\n",
       "      <td>1</td>\n",
       "      <td>0.png</td>\n",
       "    </tr>\n",
       "    <tr>\n",
       "      <th>891</th>\n",
       "      <td>1533538</td>\n",
       "      <td>21016</td>\n",
       "      <td>0</td>\n",
       "      <td>0.png</td>\n",
       "    </tr>\n",
       "  </tbody>\n",
       "</table>\n",
       "<p>662 rows × 4 columns</p>\n",
       "</div>"
      ],
      "text/plain": [
       "           id    eye take replica\n",
       "11    3749963  21016    0   0.png\n",
       "13    5023033  21015    0   0.png\n",
       "16    4446007  21015    0   0.png\n",
       "37    1810308  21016    0   0.png\n",
       "55    2814310  21015    0   0.png\n",
       "...       ...    ...  ...     ...\n",
       "3877  5483296  21015    0   0.png\n",
       "5346  1197618  21016    0   0.png\n",
       "5382  1340232  21015    0   0.png\n",
       "5551  1648394  21016    1   0.png\n",
       "891   1533538  21016    0   0.png\n",
       "\n",
       "[662 rows x 4 columns]"
      ]
     },
     "execution_count": 10,
     "metadata": {},
     "output_type": "execute_result"
    }
   ],
   "source": [
    "# Concatenate together high and moderate risk\n",
    "tograde = pd.concat([fun_highrisk_t2d, selected])\n",
    "tograde"
   ]
  },
  {
   "cell_type": "code",
   "execution_count": 11,
   "metadata": {},
   "outputs": [
    {
     "data": {
      "text/plain": [
       "11      3749963_21016_0_0.png\n",
       "13      5023033_21015_0_0.png\n",
       "16      4446007_21015_0_0.png\n",
       "37      1810308_21016_0_0.png\n",
       "55      2814310_21015_0_0.png\n",
       "                ...          \n",
       "3877    5483296_21015_0_0.png\n",
       "5346    1197618_21016_0_0.png\n",
       "5382    1340232_21015_0_0.png\n",
       "5551    1648394_21016_1_0.png\n",
       "891     1533538_21016_0_0.png\n",
       "Length: 662, dtype: object"
      ]
     },
     "execution_count": 11,
     "metadata": {},
     "output_type": "execute_result"
    }
   ],
   "source": [
    "tograde = tograde.apply(lambda x: \"_\".join(x.values), axis=1)\n",
    "tograde"
   ]
  },
  {
   "cell_type": "code",
   "execution_count": 12,
   "metadata": {},
   "outputs": [],
   "source": [
    "tograde.to_csv(\"data/t2d_2grade.txt\")"
   ]
  },
  {
   "cell_type": "code",
   "execution_count": 13,
   "metadata": {},
   "outputs": [
    {
     "name": "stderr",
     "output_type": "stream",
     "text": [
      "100%|██████████| 662/662 [00:00<00:00, 66097.63it/s]\n"
     ]
    }
   ],
   "source": [
    "# Link fundus files to /data folder\n",
    "link_files(\"/mnt/ukbb/raw/\", \"data/2grade/\", tograde.values)"
   ]
  },
  {
   "cell_type": "markdown",
   "metadata": {},
   "source": [
    "# After Cleaning"
   ]
  },
  {
   "cell_type": "code",
   "execution_count": 70,
   "metadata": {},
   "outputs": [],
   "source": [
    "# After manually cleaning the images to a total of 500 we then  link the fundus to a /data/2grade_clean\n",
    "tograde_clean = pd.read_csv(\"data/2grade_clean.txt\", header=None)\n",
    "\n",
    "# Get a DF\n",
    "fun_2grade_clean = pd.DataFrame([i.split(\"_\") for i in tograde_clean[0].values], columns=[\"id\",\"eye\",\"take\",\"replica\"])\n",
    "fun_2grade_clean.id = fun_2grade_clean.id.astype(str)"
   ]
  },
  {
   "cell_type": "code",
   "execution_count": 72,
   "metadata": {},
   "outputs": [
    {
     "name": "stderr",
     "output_type": "stream",
     "text": [
      "  0%|          | 0/500 [00:00<?, ?it/s]"
     ]
    },
    {
     "name": "stdout",
     "output_type": "stream",
     "text": [
      "No problem, already there\n"
     ]
    },
    {
     "name": "stderr",
     "output_type": "stream",
     "text": [
      "\n"
     ]
    }
   ],
   "source": [
    "# Link fundus files to /data folder\n",
    "try:\n",
    "    link_files(\"/mnt/ukbb/raw/\", \"data/2grade_clean/t2d/\", tograde_clean[0].values)\n",
    "except FileExistsError:\n",
    "    print(\"No problem, already there\")"
   ]
  },
  {
   "cell_type": "code",
   "execution_count": 73,
   "metadata": {},
   "outputs": [],
   "source": [
    "fun_highrisk_t2d_set = set(fun_highrisk_t2d.id)"
   ]
  },
  {
   "cell_type": "code",
   "execution_count": 74,
   "metadata": {},
   "outputs": [
    {
     "data": {
      "text/html": [
       "<div>\n",
       "<style scoped>\n",
       "    .dataframe tbody tr th:only-of-type {\n",
       "        vertical-align: middle;\n",
       "    }\n",
       "\n",
       "    .dataframe tbody tr th {\n",
       "        vertical-align: top;\n",
       "    }\n",
       "\n",
       "    .dataframe thead th {\n",
       "        text-align: right;\n",
       "    }\n",
       "</style>\n",
       "<table border=\"1\" class=\"dataframe\">\n",
       "  <thead>\n",
       "    <tr style=\"text-align: right;\">\n",
       "      <th></th>\n",
       "      <th>0</th>\n",
       "      <th>highrisk_prs</th>\n",
       "    </tr>\n",
       "  </thead>\n",
       "  <tbody>\n",
       "    <tr>\n",
       "      <th>0</th>\n",
       "      <td>1013324_21015_0_0.png</td>\n",
       "      <td>0</td>\n",
       "    </tr>\n",
       "    <tr>\n",
       "      <th>1</th>\n",
       "      <td>1016734_21015_0_0.png</td>\n",
       "      <td>0</td>\n",
       "    </tr>\n",
       "    <tr>\n",
       "      <th>2</th>\n",
       "      <td>1025300_21016_0_0.png</td>\n",
       "      <td>0</td>\n",
       "    </tr>\n",
       "    <tr>\n",
       "      <th>3</th>\n",
       "      <td>1029035_21015_0_0.png</td>\n",
       "      <td>0</td>\n",
       "    </tr>\n",
       "    <tr>\n",
       "      <th>4</th>\n",
       "      <td>1031736_21015_1_0.png</td>\n",
       "      <td>1</td>\n",
       "    </tr>\n",
       "    <tr>\n",
       "      <th>...</th>\n",
       "      <td>...</td>\n",
       "      <td>...</td>\n",
       "    </tr>\n",
       "    <tr>\n",
       "      <th>495</th>\n",
       "      <td>5945604_21015_1_0.png</td>\n",
       "      <td>0</td>\n",
       "    </tr>\n",
       "    <tr>\n",
       "      <th>496</th>\n",
       "      <td>5945720_21016_0_0.png</td>\n",
       "      <td>0</td>\n",
       "    </tr>\n",
       "    <tr>\n",
       "      <th>497</th>\n",
       "      <td>5951754_21016_0_0.png</td>\n",
       "      <td>0</td>\n",
       "    </tr>\n",
       "    <tr>\n",
       "      <th>498</th>\n",
       "      <td>5979014_21015_0_0.png</td>\n",
       "      <td>0</td>\n",
       "    </tr>\n",
       "    <tr>\n",
       "      <th>499</th>\n",
       "      <td>6005913_21015_0_0.png</td>\n",
       "      <td>0</td>\n",
       "    </tr>\n",
       "  </tbody>\n",
       "</table>\n",
       "<p>500 rows × 2 columns</p>\n",
       "</div>"
      ],
      "text/plain": [
       "                         0  highrisk_prs\n",
       "0    1013324_21015_0_0.png             0\n",
       "1    1016734_21015_0_0.png             0\n",
       "2    1025300_21016_0_0.png             0\n",
       "3    1029035_21015_0_0.png             0\n",
       "4    1031736_21015_1_0.png             1\n",
       "..                     ...           ...\n",
       "495  5945604_21015_1_0.png             0\n",
       "496  5945720_21016_0_0.png             0\n",
       "497  5951754_21016_0_0.png             0\n",
       "498  5979014_21015_0_0.png             0\n",
       "499  6005913_21015_0_0.png             0\n",
       "\n",
       "[500 rows x 2 columns]"
      ]
     },
     "execution_count": 74,
     "metadata": {},
     "output_type": "execute_result"
    }
   ],
   "source": [
    "# Label for high-risk of T2D on clean data\n",
    "prs_highrisk = fun_2grade_clean.apply(lambda x: 1 if x.id in fun_highrisk_t2d_set else 0, axis=1)\n",
    "tograde_clean[\"highrisk_prs\"] = prs_highrisk\n",
    "tograde_clean"
   ]
  },
  {
   "cell_type": "code",
   "execution_count": 77,
   "metadata": {},
   "outputs": [],
   "source": [
    "# Save file with highrisk labels\n",
    "tograde_clean.to_csv(\"data/prs_labels.txt\")"
   ]
  },
  {
   "cell_type": "markdown",
   "metadata": {},
   "source": [
    "# Test images with CNN"
   ]
  },
  {
   "cell_type": "code",
   "execution_count": null,
   "metadata": {},
   "outputs": [],
   "source": []
  }
 ],
 "metadata": {
  "kernelspec": {
   "display_name": "Python 3",
   "language": "python",
   "name": "python3"
  },
  "language_info": {
   "codemirror_mode": {
    "name": "ipython",
    "version": 3
   },
   "file_extension": ".py",
   "mimetype": "text/x-python",
   "name": "python",
   "nbconvert_exporter": "python",
   "pygments_lexer": "ipython3",
   "version": "3.7.9"
  }
 },
 "nbformat": 4,
 "nbformat_minor": 4
}
